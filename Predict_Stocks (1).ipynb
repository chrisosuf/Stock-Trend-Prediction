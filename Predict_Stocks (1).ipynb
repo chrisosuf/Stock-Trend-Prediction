{
 "cells": [
  {
   "cell_type": "code",
   "execution_count": null,
   "metadata": {
    "collapsed": false
   },
   "outputs": [],
   "source": [
    "# This program utilizes a Long Short Term Memory reccurent neural network trained using inputs\n",
    "# of High, Low, and Open daily stock prices. The neural network predicts the next day price using\n",
    "# the testing portion of data after it has been trained with the previous actual movements \n",
    "\n",
    "# cd Desktop\n",
    "\n",
    "# load libraries\n",
    "import datetime as dt\n",
    "import matplotlib.pyplot as plt\n",
    "from matplotlib import style\n",
    "import numpy as np\n",
    "import pandas as pd\n",
    "import pandas_datareader.data as web\n",
    "import os\n",
    "from keras.layers.core import Dense, Activation, Dropout\n",
    "from keras.layers.recurrent import LSTM\n",
    "from keras.models import Sequential\n",
    "import lstm, time # lstm, our 'library' of functions, of which we only utilize load_data_mult()"
   ]
  },
  {
   "cell_type": "code",
   "execution_count": null,
   "metadata": {
    "collapsed": false
   },
   "outputs": [],
   "source": [
    "# Get our stock data\n",
    "style.use('ggplot')\n",
    "\n",
    "start = dt.datetime(2000, 1, 1)\n",
    "end = dt.datetime(2016, 12, 31)\n",
    "\n",
    "df = web.DataReader('MSFT', \"yahoo\", start, end)\n",
    "# aquire price info from start date to end date\n",
    "df.drop(df.columns[[3,4,5]], axis=1, inplace=True) # only utilizing open, high, and low\n",
    "df.head()\n",
    "\n",
    "# print(df.to_csv('MSFT_data.csv', index=False))"
   ]
  },
  {
   "cell_type": "code",
   "execution_count": null,
   "metadata": {
    "collapsed": false
   },
   "outputs": [],
   "source": [
    "# \"pre-normalization\"\n",
    "df['Low'] = df['Low'] / 1000\n",
    "df['Open'] = df['Open'] / 1000\n",
    "df['High'] = df['High'] / 1000\n",
    "df.head(5)"
   ]
  },
  {
   "cell_type": "code",
   "execution_count": null,
   "metadata": {
    "collapsed": false
   },
   "outputs": [],
   "source": [
    "# read our dataframe into an array of values and normalize them\n",
    "# normalize formula: (price-initial_price)/1\n",
    "\n",
    "# X_train, y_train, X_test, y_test = lstm.load_data_mult('MSFT_data.csv', 50, True) \n",
    "X_train, y_train, X_test, y_test = lstm.load_data_mult(df[::-1], 5)\n",
    "print(\"X_train\", X_train.shape)\n",
    "print(\"y_train\", y_train.shape)\n",
    "print(\"X_test\", X_test.shape)\n",
    "print(\"y_test\", y_test.shape)\n",
    "\n"
   ]
  },
  {
   "cell_type": "code",
   "execution_count": null,
   "metadata": {
    "collapsed": false
   },
   "outputs": [],
   "source": [
    "# Build the reccurrent neural network: Long Short Term Memory (LSTM)\n",
    "\n",
    "# In a Reccurrent NN, any hidden layer is not based solely on the input layer, but also\n",
    "# on previous hidden layers, thus allowing it to use data from the present and recent past\n",
    "# to predict outcomes\n",
    "\n",
    "# The LSTM framework allows us to retain information from far into the past, wheras\n",
    "# with a regular recurrent network, information decays as time moves on.\n",
    "# It does so by using 'memory cells' rather than regular activation function neurons. \n",
    "# Within each cell, the input and output gates utilize the activation functions while an\n",
    "# internal state feeds information into itself accross timesteps with constant weight of 1.\n",
    "# Constant weight of 1 means that when gradients move through the cell, the error is multiplied\n",
    "# by a weight of 1, and thus stays the same value with no decay. \n",
    "# Value is preserved in the memory cell.\n",
    "\n",
    "\n",
    "model = Sequential() # linear stack of layers\n",
    "\n",
    "# First layer: 50 units,\n",
    "model.add(LSTM(\n",
    "    input_dim=3, # Open, Low, High\n",
    "    output_dim=50,\n",
    "    return_sequences=True)) # This layer's output is fed into the next hidden layer\n",
    "model.add(Dropout(0.2)) # 20% dropout\n",
    "\n",
    "# Second layer: 100 units, returns a vector of predictions\n",
    "model.add(LSTM(\n",
    "    100,\n",
    "    return_sequences=False)) # Its output is only fed to next layer at end of sequence\n",
    "model.add(Dropout(0.2))\n",
    "\n",
    "# Use the linear Dense layer to group the vector into a single value\n",
    "model.add(Dense(\n",
    "    output_dim=1))\n",
    "model.add(Activation('linear'))\n",
    "\n",
    "# Compile using mean square error loss function, and gradient decent optimizer (rmsprop)\n",
    "start = time.time()\n",
    "model.compile(loss='mse', optimizer='rmsprop', metrics=['accuracy'])\n",
    "print('compilation time : ', time.time() - start)\n",
    "\n"
   ]
  },
  {
   "cell_type": "code",
   "execution_count": null,
   "metadata": {
    "collapsed": false
   },
   "outputs": [],
   "source": [
    "# train model\n",
    "model.fit(\n",
    "    X_train,\n",
    "    y_train,\n",
    "    batch_size=500,\n",
    "    nb_epoch=10,\n",
    "    validation_split=0.1) # 10% for validation"
   ]
  },
  {
   "cell_type": "code",
   "execution_count": null,
   "metadata": {
    "collapsed": false
   },
   "outputs": [],
   "source": [
    "diff=[]\n",
    "ratio=[]\n",
    "p = model.predict(X_test)\n",
    "for u in range(len(y_test)):\n",
    "    pr = p[u][0]\n",
    "    ratio.append((y_test[u]/pr)-1) # denormalize\n",
    "    diff.append(abs(y_test[u]- pr))"
   ]
  },
  {
   "cell_type": "code",
   "execution_count": null,
   "metadata": {
    "collapsed": false
   },
   "outputs": [],
   "source": [
    "import matplotlib.pyplot as plt2\n",
    "\n",
    "# View results. This graph shows the prediction of the price movement using the last 20%\n",
    "# of the open, low, and high, daily price inputs\n",
    "\n",
    "plt2.plot(p,color='green', label='prediction')\n",
    "plt2.plot(y_test,color='blue', label='actual')\n",
    "plt2.legend(loc='upper left')\n",
    "plt2.show()"
   ]
  },
  {
   "cell_type": "code",
   "execution_count": null,
   "metadata": {
    "collapsed": true
   },
   "outputs": [],
   "source": []
  }
 ],
 "metadata": {
  "anaconda-cloud": {},
  "kernelspec": {
   "display_name": "Python [default]",
   "language": "python",
   "name": "python3"
  },
  "language_info": {
   "codemirror_mode": {
    "name": "ipython",
    "version": 3
   },
   "file_extension": ".py",
   "mimetype": "text/x-python",
   "name": "python",
   "nbconvert_exporter": "python",
   "pygments_lexer": "ipython3",
   "version": "3.5.2"
  }
 },
 "nbformat": 4,
 "nbformat_minor": 1
}
